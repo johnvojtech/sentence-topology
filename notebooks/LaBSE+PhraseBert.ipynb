{
  "nbformat": 4,
  "nbformat_minor": 0,
  "metadata": {
    "colab": {
      "provenance": []
    },
    "kernelspec": {
      "name": "python3",
      "display_name": "Python 3"
    },
    "language_info": {
      "name": "python"
    }
  },
  "cells": [
    {
      "cell_type": "code",
      "execution_count": null,
      "metadata": {
        "id": "nS3rdboz5AeP"
      },
      "outputs": [],
      "source": [
        "pip install -U sentence-transformers"
      ]
    },
    {
      "cell_type": "code",
      "source": [
        "from sentence_transformers import SentenceTransformer"
      ],
      "metadata": {
        "id": "y64b1ikz5NEC"
      },
      "execution_count": null,
      "outputs": []
    },
    {
      "cell_type": "markdown",
      "source": [
        "## LaBSE"
      ],
      "metadata": {
        "id": "DvwRcBP7j_Ze"
      }
    },
    {
      "cell_type": "code",
      "source": [
        "model = SentenceTransformer('sentence-transformers/LaBSE')"
      ],
      "metadata": {
        "id": "UTNYMsC-EMv3"
      },
      "execution_count": 41,
      "outputs": []
    },
    {
      "cell_type": "code",
      "source": [
        "with open('COSTRA1.1.tsv', mode=\"r\", encoding=\"utf-8\") as corpus:\n",
        "  LaBSE_embedding = []\n",
        "  for line in corpus:\n",
        "    line = line.rstrip(\"\\n\").split(\"\\t\")\n",
        "    embedding = model.encode(line[3])\n",
        "    field = '\\t'.join(line[:3])\n",
        "    embedding = '\\t'.join(map(str,embedding))\n",
        "    LaBSE_embedding.append('\\t'.join([field,embedding]))\n",
        ""
      ],
      "metadata": {
        "id": "5B9Sx4uRnKwq"
      },
      "execution_count": 48,
      "outputs": []
    },
    {
      "cell_type": "code",
      "source": [
        "with open(\"LaBSE.tsv\",mode = \"w\", encoding = 'utf-8') as file:\n",
        "  for sent in LaBSE_embedding:\n",
        "    file.write(f'{sent}\\n')"
      ],
      "metadata": {
        "id": "_ouuQWB8n6WB"
      },
      "execution_count": 49,
      "outputs": []
    },
    {
      "cell_type": "markdown",
      "source": [
        "## Phrase-Bert"
      ],
      "metadata": {
        "id": "q3QKN5cckCf1"
      }
    },
    {
      "cell_type": "code",
      "source": [
        "model_2 = SentenceTransformer('whaleloops/phrase-bert')"
      ],
      "metadata": {
        "id": "RHeSc992E2ED"
      },
      "execution_count": 29,
      "outputs": []
    },
    {
      "cell_type": "code",
      "source": [
        "with open('COSTRA1.1.tsv', mode=\"r\", encoding=\"utf-8\") as corpus:\n",
        "  phrase_embedding = []\n",
        "  for line in corpus:\n",
        "    line = line.rstrip(\"\\n\").split(\"\\t\")\n",
        "    embedding = model_2.encode(line[3])\n",
        "    field = '\\t'.join(line[:3])\n",
        "    embedding = '\\t'.join(map(str,embedding))\n",
        "    phrase_embedding.append('\\t'.join([field,embedding]))\n",
        ""
      ],
      "metadata": {
        "id": "4K5z892Zr1Za"
      },
      "execution_count": 30,
      "outputs": []
    },
    {
      "cell_type": "code",
      "source": [
        "with open(\"Phrase_Embedding.tsv\",mode = \"w\", encoding = 'utf-8') as file:\n",
        "  for sent in phrase_embedding:\n",
        "    file.write(f'{sent}\\n')"
      ],
      "metadata": {
        "id": "ZKiSPp0Lsa8h"
      },
      "execution_count": 31,
      "outputs": []
    }
  ]
}