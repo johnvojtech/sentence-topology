{
 "cells": [
  {
   "cell_type": "code",
   "execution_count": 1,
   "id": "41c79bae",
   "metadata": {},
   "outputs": [],
   "source": [
    "import sentence_topology"
   ]
  },
  {
   "cell_type": "code",
   "execution_count": 2,
   "id": "8cb5d08e",
   "metadata": {},
   "outputs": [
    {
     "name": "stdout",
     "output_type": "stream",
     "text": [
      "Hello David\n"
     ]
    }
   ],
   "source": [
    "sentence_topology.print_hello(\"David\")"
   ]
  }
 ],
 "metadata": {
  "kernelspec": {
   "display_name": "Python 3 (ipykernel)",
   "language": "python",
   "name": "python3"
  },
  "language_info": {
   "codemirror_mode": {
    "name": "ipython",
    "version": 3
   },
   "file_extension": ".py",
   "mimetype": "text/x-python",
   "name": "python",
   "nbconvert_exporter": "python",
   "pygments_lexer": "ipython3",
   "version": "3.10.9"
  }
 },
 "nbformat": 4,
 "nbformat_minor": 5
}
