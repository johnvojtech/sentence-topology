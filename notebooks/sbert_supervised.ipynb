{
 "cells": [
  {
   "cell_type": "code",
   "execution_count": 1,
   "id": "689cd9a9",
   "metadata": {},
   "outputs": [],
   "source": [
    "from typing import Iterable, Sequence, cast\n",
    "\n",
    "import matplotlib.pyplot as plt\n",
    "import numpy as np\n",
    "import pandas as pd\n",
    "from sentence_transformers import SentenceTransformer\n",
    "from sklearn import metrics, model_selection\n",
    "from torch.utils.data import DataLoader\n",
    "\n",
    "import sentence_topology as st\n",
    "from sentence_topology.data_types import CostraSentence"
   ]
  },
  {
   "cell_type": "code",
   "execution_count": 2,
   "id": "7bbfad48",
   "metadata": {},
   "outputs": [],
   "source": [
    "def gen_confusion_matricies(\n",
    "    corpus: list[CostraSentence],\n",
    "    sentence_model: str,\n",
    "    *,\n",
    "    splits: int = 5,\n",
    "    epochs: int = 5,\n",
    "    verbose: bool = False,\n",
    ") -> Iterable[pd.DataFrame]:\n",
    "    kfold = model_selection.StratifiedGroupKFold(n_splits=splits)\n",
    "    data = st.sentence_transformers.create_transformation_prediction_data(corpus)\n",
    "    classes = cast(Sequence[str], data.label_encoder.classes_)\n",
    "\n",
    "    for train_inds, test_inds in kfold.split(\n",
    "        data.sent_pairs, y=data.trans, groups=data.seed_ids\n",
    "    ):\n",
    "        train = [data.sent_pairs[i] for i in train_inds]\n",
    "        train = DataLoader(train, batch_size=8, shuffle=True)\n",
    "        test = [data.sent_pairs[i] for i in test_inds]\n",
    "        test = DataLoader(test, batch_size=8)\n",
    "\n",
    "        model = SentenceTransformer(sentence_model)\n",
    "        classifier = st.sentence_transformers.train_with_transformation_prediction(\n",
    "            model=model,\n",
    "            train_data=train,\n",
    "            test_data=test,\n",
    "            epochs=epochs,\n",
    "            num_labels=len(classes),\n",
    "            verbose=verbose,\n",
    "        )\n",
    "\n",
    "        predicion_results = st.sentence_transformers.train.predict_with_classifier(\n",
    "            test, classifier, model\n",
    "        )\n",
    "        all_preds = []\n",
    "        all_true = []\n",
    "        for prediction, label_ids in predicion_results:\n",
    "            all_preds.append(prediction.numpy(force=True))\n",
    "            all_true.append(label_ids.numpy(force=True))\n",
    "\n",
    "        all_preds = np.concatenate(all_preds)\n",
    "        all_true = np.concatenate(all_true)\n",
    "\n",
    "        yield pd.DataFrame(\n",
    "            metrics.confusion_matrix(all_true, all_preds),\n",
    "            columns=classes,\n",
    "            index=classes,\n",
    "        )"
   ]
  },
  {
   "cell_type": "code",
   "execution_count": 3,
   "id": "cc31b915",
   "metadata": {
    "scrolled": false
   },
   "outputs": [
    {
     "data": {
      "application/vnd.jupyter.widget-view+json": {
       "model_id": "ab82972d07894245b31c45966429d72e",
       "version_major": 2,
       "version_minor": 0
      },
      "text/plain": [
       "Epoch:   0%|          | 0/5 [00:00<?, ?it/s]"
      ]
     },
     "metadata": {},
     "output_type": "display_data"
    },
    {
     "data": {
      "application/vnd.jupyter.widget-view+json": {
       "model_id": "bdab73b3dfa04158860530888a2b9732",
       "version_major": 2,
       "version_minor": 0
      },
      "text/plain": [
       "Iteration:   0%|          | 0/698 [00:00<?, ?it/s]"
      ]
     },
     "metadata": {},
     "output_type": "display_data"
    },
    {
     "data": {
      "application/vnd.jupyter.widget-view+json": {
       "model_id": "861ef4d5c96246c19810dda1732d4ee1",
       "version_major": 2,
       "version_minor": 0
      },
      "text/plain": [
       "Iteration:   0%|          | 0/698 [00:00<?, ?it/s]"
      ]
     },
     "metadata": {},
     "output_type": "display_data"
    },
    {
     "data": {
      "application/vnd.jupyter.widget-view+json": {
       "model_id": "2286a3cc2d5b4574adbcac884604a12a",
       "version_major": 2,
       "version_minor": 0
      },
      "text/plain": [
       "Iteration:   0%|          | 0/698 [00:00<?, ?it/s]"
      ]
     },
     "metadata": {},
     "output_type": "display_data"
    },
    {
     "data": {
      "application/vnd.jupyter.widget-view+json": {
       "model_id": "013d31f3eaff4bdf9807b30ccd78ecd1",
       "version_major": 2,
       "version_minor": 0
      },
      "text/plain": [
       "Iteration:   0%|          | 0/698 [00:00<?, ?it/s]"
      ]
     },
     "metadata": {},
     "output_type": "display_data"
    },
    {
     "data": {
      "application/vnd.jupyter.widget-view+json": {
       "model_id": "f95aad1a28e8488aa2a07c6a40a49100",
       "version_major": 2,
       "version_minor": 0
      },
      "text/plain": [
       "Iteration:   0%|          | 0/698 [00:00<?, ?it/s]"
      ]
     },
     "metadata": {},
     "output_type": "display_data"
    },
    {
     "data": {
      "application/vnd.jupyter.widget-view+json": {
       "model_id": "9033b93da7784a22bfe0443ae675b9c4",
       "version_major": 2,
       "version_minor": 0
      },
      "text/plain": [
       "Epoch:   0%|          | 0/5 [00:00<?, ?it/s]"
      ]
     },
     "metadata": {},
     "output_type": "display_data"
    },
    {
     "data": {
      "application/vnd.jupyter.widget-view+json": {
       "model_id": "fef8c0cbde7a45ac9631d926f5ed3ee8",
       "version_major": 2,
       "version_minor": 0
      },
      "text/plain": [
       "Iteration:   0%|          | 0/698 [00:00<?, ?it/s]"
      ]
     },
     "metadata": {},
     "output_type": "display_data"
    },
    {
     "data": {
      "application/vnd.jupyter.widget-view+json": {
       "model_id": "a529303bbdd2499c8b6bd5744dc34b47",
       "version_major": 2,
       "version_minor": 0
      },
      "text/plain": [
       "Iteration:   0%|          | 0/698 [00:00<?, ?it/s]"
      ]
     },
     "metadata": {},
     "output_type": "display_data"
    },
    {
     "data": {
      "application/vnd.jupyter.widget-view+json": {
       "model_id": "00c10dcdce7a499c96e50de03444719e",
       "version_major": 2,
       "version_minor": 0
      },
      "text/plain": [
       "Iteration:   0%|          | 0/698 [00:00<?, ?it/s]"
      ]
     },
     "metadata": {},
     "output_type": "display_data"
    },
    {
     "data": {
      "application/vnd.jupyter.widget-view+json": {
       "model_id": "48e80dd1a2474ca0a58b7f855648cf69",
       "version_major": 2,
       "version_minor": 0
      },
      "text/plain": [
       "Iteration:   0%|          | 0/698 [00:00<?, ?it/s]"
      ]
     },
     "metadata": {},
     "output_type": "display_data"
    },
    {
     "data": {
      "application/vnd.jupyter.widget-view+json": {
       "model_id": "a6a356a2322f4277884040ef87b6f8ca",
       "version_major": 2,
       "version_minor": 0
      },
      "text/plain": [
       "Iteration:   0%|          | 0/698 [00:00<?, ?it/s]"
      ]
     },
     "metadata": {},
     "output_type": "display_data"
    },
    {
     "data": {
      "application/vnd.jupyter.widget-view+json": {
       "model_id": "175787c6d2114734a189ba7d886f7c31",
       "version_major": 2,
       "version_minor": 0
      },
      "text/plain": [
       "Epoch:   0%|          | 0/5 [00:00<?, ?it/s]"
      ]
     },
     "metadata": {},
     "output_type": "display_data"
    },
    {
     "data": {
      "application/vnd.jupyter.widget-view+json": {
       "model_id": "d256551852634ab79c445b107592947a",
       "version_major": 2,
       "version_minor": 0
      },
      "text/plain": [
       "Iteration:   0%|          | 0/695 [00:00<?, ?it/s]"
      ]
     },
     "metadata": {},
     "output_type": "display_data"
    },
    {
     "data": {
      "application/vnd.jupyter.widget-view+json": {
       "model_id": "726c57406aed4a28b325a580cff3ef05",
       "version_major": 2,
       "version_minor": 0
      },
      "text/plain": [
       "Iteration:   0%|          | 0/695 [00:00<?, ?it/s]"
      ]
     },
     "metadata": {},
     "output_type": "display_data"
    },
    {
     "data": {
      "application/vnd.jupyter.widget-view+json": {
       "model_id": "912850702e7b49ef93741b6e0c6f8de4",
       "version_major": 2,
       "version_minor": 0
      },
      "text/plain": [
       "Iteration:   0%|          | 0/695 [00:00<?, ?it/s]"
      ]
     },
     "metadata": {},
     "output_type": "display_data"
    },
    {
     "data": {
      "application/vnd.jupyter.widget-view+json": {
       "model_id": "efc70c4e3fcb43c68bb11fb3f2297d4f",
       "version_major": 2,
       "version_minor": 0
      },
      "text/plain": [
       "Iteration:   0%|          | 0/695 [00:00<?, ?it/s]"
      ]
     },
     "metadata": {},
     "output_type": "display_data"
    },
    {
     "data": {
      "application/vnd.jupyter.widget-view+json": {
       "model_id": "4e9c8b252e50479bb704480c96cdf9b4",
       "version_major": 2,
       "version_minor": 0
      },
      "text/plain": [
       "Iteration:   0%|          | 0/695 [00:00<?, ?it/s]"
      ]
     },
     "metadata": {},
     "output_type": "display_data"
    },
    {
     "data": {
      "application/vnd.jupyter.widget-view+json": {
       "model_id": "626ef6080dbf4eb482ffef0835bb6f10",
       "version_major": 2,
       "version_minor": 0
      },
      "text/plain": [
       "Epoch:   0%|          | 0/5 [00:00<?, ?it/s]"
      ]
     },
     "metadata": {},
     "output_type": "display_data"
    },
    {
     "data": {
      "application/vnd.jupyter.widget-view+json": {
       "model_id": "e4b25dfa79b44b25a7936dc2b9e6dba1",
       "version_major": 2,
       "version_minor": 0
      },
      "text/plain": [
       "Iteration:   0%|          | 0/697 [00:00<?, ?it/s]"
      ]
     },
     "metadata": {},
     "output_type": "display_data"
    },
    {
     "data": {
      "application/vnd.jupyter.widget-view+json": {
       "model_id": "4dfd76f15ba44e2c9c9efa7a02f09519",
       "version_major": 2,
       "version_minor": 0
      },
      "text/plain": [
       "Iteration:   0%|          | 0/697 [00:00<?, ?it/s]"
      ]
     },
     "metadata": {},
     "output_type": "display_data"
    },
    {
     "data": {
      "application/vnd.jupyter.widget-view+json": {
       "model_id": "8a0e41b07f36406d9747595fbad0074d",
       "version_major": 2,
       "version_minor": 0
      },
      "text/plain": [
       "Iteration:   0%|          | 0/697 [00:00<?, ?it/s]"
      ]
     },
     "metadata": {},
     "output_type": "display_data"
    },
    {
     "data": {
      "application/vnd.jupyter.widget-view+json": {
       "model_id": "80e080299df24dcd809d3263b7b606c6",
       "version_major": 2,
       "version_minor": 0
      },
      "text/plain": [
       "Iteration:   0%|          | 0/697 [00:00<?, ?it/s]"
      ]
     },
     "metadata": {},
     "output_type": "display_data"
    },
    {
     "data": {
      "application/vnd.jupyter.widget-view+json": {
       "model_id": "bfce13f90bbd4b6c9b251bdc96ea25e8",
       "version_major": 2,
       "version_minor": 0
      },
      "text/plain": [
       "Iteration:   0%|          | 0/697 [00:00<?, ?it/s]"
      ]
     },
     "metadata": {},
     "output_type": "display_data"
    },
    {
     "data": {
      "application/vnd.jupyter.widget-view+json": {
       "model_id": "ada91f4ef9114859bb8ee2a3991f1b9b",
       "version_major": 2,
       "version_minor": 0
      },
      "text/plain": [
       "Epoch:   0%|          | 0/5 [00:00<?, ?it/s]"
      ]
     },
     "metadata": {},
     "output_type": "display_data"
    },
    {
     "data": {
      "application/vnd.jupyter.widget-view+json": {
       "model_id": "cc64154c1f7a4094a5ae75449e5980db",
       "version_major": 2,
       "version_minor": 0
      },
      "text/plain": [
       "Iteration:   0%|          | 0/699 [00:00<?, ?it/s]"
      ]
     },
     "metadata": {},
     "output_type": "display_data"
    },
    {
     "data": {
      "application/vnd.jupyter.widget-view+json": {
       "model_id": "525060530cc14cb5898466b2cc3f7d5c",
       "version_major": 2,
       "version_minor": 0
      },
      "text/plain": [
       "Iteration:   0%|          | 0/699 [00:00<?, ?it/s]"
      ]
     },
     "metadata": {},
     "output_type": "display_data"
    },
    {
     "data": {
      "application/vnd.jupyter.widget-view+json": {
       "model_id": "52a049352d7140a2bd1513c903031c76",
       "version_major": 2,
       "version_minor": 0
      },
      "text/plain": [
       "Iteration:   0%|          | 0/699 [00:00<?, ?it/s]"
      ]
     },
     "metadata": {},
     "output_type": "display_data"
    },
    {
     "data": {
      "application/vnd.jupyter.widget-view+json": {
       "model_id": "cade007d37774d5fad86c5e1d440a2a7",
       "version_major": 2,
       "version_minor": 0
      },
      "text/plain": [
       "Iteration:   0%|          | 0/699 [00:00<?, ?it/s]"
      ]
     },
     "metadata": {},
     "output_type": "display_data"
    },
    {
     "data": {
      "application/vnd.jupyter.widget-view+json": {
       "model_id": "a9170dbd13504334a1f47731b95600dc",
       "version_major": 2,
       "version_minor": 0
      },
      "text/plain": [
       "Iteration:   0%|          | 0/699 [00:00<?, ?it/s]"
      ]
     },
     "metadata": {},
     "output_type": "display_data"
    }
   ],
   "source": [
    "MODEL = \"paraphrase-multilingual-MiniLM-L12-v2\"\n",
    "SPLITS = 5\n",
    "corpus = list(st.utils.load_corpus(\"../data/COSTRA1.1.tsv\"))\n",
    "matricies = gen_confusion_matricies(corpus, MODEL, verbose=True, splits=SPLITS)\n",
    "matricies = list(matricies)"
   ]
  },
  {
   "cell_type": "code",
   "execution_count": 21,
   "id": "c116a55c",
   "metadata": {
    "scrolled": false
   },
   "outputs": [],
   "source": [
    "fig, subplots = plt.subplots(\n",
    "    SPLITS,\n",
    "    1,\n",
    "    figsize=(10, 8 * SPLITS),\n",
    "    gridspec_kw={\"hspace\": 0.45},\n",
    ")\n",
    "subplots = np.reshape(subplots, (-1,))\n",
    "\n",
    "for split_ind, (matrix, axes) in enumerate(zip(matricies, subplots)):\n",
    "    axes.set_title(f\"Normalized confusion matrix for split {split_ind + 1}\")\n",
    "    st.visualization.confusion_matrix(matrix, axes)\n",
    "\n",
    "fig"
   ]
  },
  {
   "cell_type": "code",
   "execution_count": 22,
   "id": "08709422",
   "metadata": {},
   "outputs": [],
   "source": [
    "fig.savefig(\"../figs/sbert_confusion_matricies_norm.png\", bbox_inches=\"tight\")"
   ]
  }
 ],
 "metadata": {
  "kernelspec": {
   "display_name": "Python 3 (ipykernel)",
   "language": "python",
   "name": "python3"
  },
  "language_info": {
   "codemirror_mode": {
    "name": "ipython",
    "version": 3
   },
   "file_extension": ".py",
   "mimetype": "text/x-python",
   "name": "python",
   "nbconvert_exporter": "python",
   "pygments_lexer": "ipython3",
   "version": "3.10.9"
  }
 },
 "nbformat": 4,
 "nbformat_minor": 5
}
